{
 "cells": [
  {
   "cell_type": "markdown",
   "metadata": {},
   "source": [
    "## Preprocessing"
   ]
  },
  {
   "cell_type": "code",
   "execution_count": 22,
   "metadata": {},
   "outputs": [
    {
     "data": {
      "text/html": [
       "<div>\n",
       "<style scoped>\n",
       "    .dataframe tbody tr th:only-of-type {\n",
       "        vertical-align: middle;\n",
       "    }\n",
       "\n",
       "    .dataframe tbody tr th {\n",
       "        vertical-align: top;\n",
       "    }\n",
       "\n",
       "    .dataframe thead th {\n",
       "        text-align: right;\n",
       "    }\n",
       "</style>\n",
       "<table border=\"1\" class=\"dataframe\">\n",
       "  <thead>\n",
       "    <tr style=\"text-align: right;\">\n",
       "      <th></th>\n",
       "      <th>EIN</th>\n",
       "      <th>NAME</th>\n",
       "      <th>APPLICATION_TYPE</th>\n",
       "      <th>AFFILIATION</th>\n",
       "      <th>CLASSIFICATION</th>\n",
       "      <th>USE_CASE</th>\n",
       "      <th>ORGANIZATION</th>\n",
       "      <th>STATUS</th>\n",
       "      <th>INCOME_AMT</th>\n",
       "      <th>SPECIAL_CONSIDERATIONS</th>\n",
       "      <th>ASK_AMT</th>\n",
       "      <th>IS_SUCCESSFUL</th>\n",
       "    </tr>\n",
       "  </thead>\n",
       "  <tbody>\n",
       "    <tr>\n",
       "      <th>0</th>\n",
       "      <td>10520599</td>\n",
       "      <td>BLUE KNIGHTS MOTORCYCLE CLUB</td>\n",
       "      <td>T10</td>\n",
       "      <td>Independent</td>\n",
       "      <td>C1000</td>\n",
       "      <td>ProductDev</td>\n",
       "      <td>Association</td>\n",
       "      <td>1</td>\n",
       "      <td>0</td>\n",
       "      <td>N</td>\n",
       "      <td>5000</td>\n",
       "      <td>1</td>\n",
       "    </tr>\n",
       "    <tr>\n",
       "      <th>1</th>\n",
       "      <td>10531628</td>\n",
       "      <td>AMERICAN CHESAPEAKE CLUB CHARITABLE TR</td>\n",
       "      <td>T3</td>\n",
       "      <td>Independent</td>\n",
       "      <td>C2000</td>\n",
       "      <td>Preservation</td>\n",
       "      <td>Co-operative</td>\n",
       "      <td>1</td>\n",
       "      <td>1-9999</td>\n",
       "      <td>N</td>\n",
       "      <td>108590</td>\n",
       "      <td>1</td>\n",
       "    </tr>\n",
       "    <tr>\n",
       "      <th>2</th>\n",
       "      <td>10547893</td>\n",
       "      <td>ST CLOUD PROFESSIONAL FIREFIGHTERS</td>\n",
       "      <td>T5</td>\n",
       "      <td>CompanySponsored</td>\n",
       "      <td>C3000</td>\n",
       "      <td>ProductDev</td>\n",
       "      <td>Association</td>\n",
       "      <td>1</td>\n",
       "      <td>0</td>\n",
       "      <td>N</td>\n",
       "      <td>5000</td>\n",
       "      <td>0</td>\n",
       "    </tr>\n",
       "    <tr>\n",
       "      <th>3</th>\n",
       "      <td>10553066</td>\n",
       "      <td>SOUTHSIDE ATHLETIC ASSOCIATION</td>\n",
       "      <td>T3</td>\n",
       "      <td>CompanySponsored</td>\n",
       "      <td>C2000</td>\n",
       "      <td>Preservation</td>\n",
       "      <td>Trust</td>\n",
       "      <td>1</td>\n",
       "      <td>10000-24999</td>\n",
       "      <td>N</td>\n",
       "      <td>6692</td>\n",
       "      <td>1</td>\n",
       "    </tr>\n",
       "    <tr>\n",
       "      <th>4</th>\n",
       "      <td>10556103</td>\n",
       "      <td>GENETIC RESEARCH INSTITUTE OF THE DESERT</td>\n",
       "      <td>T3</td>\n",
       "      <td>Independent</td>\n",
       "      <td>C1000</td>\n",
       "      <td>Heathcare</td>\n",
       "      <td>Trust</td>\n",
       "      <td>1</td>\n",
       "      <td>100000-499999</td>\n",
       "      <td>N</td>\n",
       "      <td>142590</td>\n",
       "      <td>1</td>\n",
       "    </tr>\n",
       "  </tbody>\n",
       "</table>\n",
       "</div>"
      ],
      "text/plain": [
       "        EIN                                      NAME APPLICATION_TYPE  \\\n",
       "0  10520599              BLUE KNIGHTS MOTORCYCLE CLUB              T10   \n",
       "1  10531628    AMERICAN CHESAPEAKE CLUB CHARITABLE TR               T3   \n",
       "2  10547893        ST CLOUD PROFESSIONAL FIREFIGHTERS               T5   \n",
       "3  10553066            SOUTHSIDE ATHLETIC ASSOCIATION               T3   \n",
       "4  10556103  GENETIC RESEARCH INSTITUTE OF THE DESERT               T3   \n",
       "\n",
       "        AFFILIATION CLASSIFICATION      USE_CASE  ORGANIZATION  STATUS  \\\n",
       "0       Independent          C1000    ProductDev   Association       1   \n",
       "1       Independent          C2000  Preservation  Co-operative       1   \n",
       "2  CompanySponsored          C3000    ProductDev   Association       1   \n",
       "3  CompanySponsored          C2000  Preservation         Trust       1   \n",
       "4       Independent          C1000     Heathcare         Trust       1   \n",
       "\n",
       "      INCOME_AMT SPECIAL_CONSIDERATIONS  ASK_AMT  IS_SUCCESSFUL  \n",
       "0              0                      N     5000              1  \n",
       "1         1-9999                      N   108590              1  \n",
       "2              0                      N     5000              0  \n",
       "3    10000-24999                      N     6692              1  \n",
       "4  100000-499999                      N   142590              1  "
      ]
     },
     "execution_count": 22,
     "metadata": {},
     "output_type": "execute_result"
    }
   ],
   "source": [
    "# Import our dependencies\n",
    "from sklearn.model_selection import train_test_split\n",
    "from sklearn.preprocessing import StandardScaler, OneHotEncoder\n",
    "from sklearn.metrics import accuracy_score\n",
    "import pandas as pd\n",
    "import tensorflow as tf\n",
    "from tensorflow.keras.layers import Dropout\n",
    "from keras.models import load_model\n",
    "from keras_tuner import RandomSearch\n",
    "from keras.callbacks import EarlyStopping\n",
    "from keras.callbacks import Callback\n",
    "from keras.callbacks import ModelCheckpoint\n",
    "from keras.regularizers import l1, l2, l1_l2\n",
    "from tensorflow.keras import layers\n",
    "\n",
    "\n",
    "from keras_tuner import RandomSearch\n",
    "from keras_tuner import BayesianOptimization\n",
    "from keras_tuner import Hyperband\n",
    "import keras_tuner as kt\n",
    "import numpy as np\n",
    "import matplotlib.pyplot as plt\n",
    "\n",
    "\n",
    "#  Import and read the charity_data.csv.\n",
    "import pandas as pd \n",
    "application_df = pd.read_csv(\"https://static.bc-edx.com/data/dl-1-2/m21/lms/starter/charity_data.csv\")\n",
    "application_df.head()"
   ]
  },
  {
   "cell_type": "code",
   "execution_count": 23,
   "metadata": {},
   "outputs": [
    {
     "name": "stdout",
     "output_type": "stream",
     "text": [
      "Num GPUs Available:  0\n"
     ]
    }
   ],
   "source": [
    "print(\"Num GPUs Available: \", len(tf.config.list_physical_devices('GPU')))"
   ]
  },
  {
   "cell_type": "code",
   "execution_count": 24,
   "metadata": {},
   "outputs": [],
   "source": [
    "# Drop the non-beneficial ID columns, 'EIN' and 'NAME'.\n",
    "application_df = application_df.drop([\"EIN\"], axis=1)"
   ]
  },
  {
   "cell_type": "code",
   "execution_count": 25,
   "metadata": {},
   "outputs": [
    {
     "data": {
      "text/plain": [
       "NAME                      19568\n",
       "APPLICATION_TYPE             17\n",
       "AFFILIATION                   6\n",
       "CLASSIFICATION               71\n",
       "USE_CASE                      5\n",
       "ORGANIZATION                  4\n",
       "STATUS                        2\n",
       "INCOME_AMT                    9\n",
       "SPECIAL_CONSIDERATIONS        2\n",
       "ASK_AMT                    8747\n",
       "IS_SUCCESSFUL                 2\n",
       "dtype: int64"
      ]
     },
     "execution_count": 25,
     "metadata": {},
     "output_type": "execute_result"
    }
   ],
   "source": [
    "# Determine the number of unique values in each column.\n",
    "application_df.nunique()"
   ]
  },
  {
   "cell_type": "code",
   "execution_count": 26,
   "metadata": {},
   "outputs": [
    {
     "data": {
      "text/plain": [
       "ASK_AMT\n",
       "5000        25398\n",
       "10478           3\n",
       "15583           3\n",
       "63981           3\n",
       "6725            3\n",
       "            ...  \n",
       "5371754         1\n",
       "30060           1\n",
       "43091152        1\n",
       "18683           1\n",
       "36500179        1\n",
       "Name: count, Length: 8747, dtype: int64"
      ]
     },
     "execution_count": 26,
     "metadata": {},
     "output_type": "execute_result"
    }
   ],
   "source": [
    "application_df[\"ASK_AMT\"].value_counts()"
   ]
  },
  {
   "cell_type": "code",
   "execution_count": 27,
   "metadata": {},
   "outputs": [],
   "source": [
    "# apply a logarithmic transformation to the ASK_AMT column\n",
    "application_df[\"ASK_AMT\"] = np.log10(application_df[\"ASK_AMT\"])"
   ]
  },
  {
   "cell_type": "code",
   "execution_count": 28,
   "metadata": {},
   "outputs": [
    {
     "data": {
      "text/plain": [
       "NAME\n",
       "PARENT BOOSTER USA INC                                                  1260\n",
       "TOPS CLUB INC                                                            765\n",
       "UNITED STATES BOWLING CONGRESS INC                                       700\n",
       "WASHINGTON STATE UNIVERSITY                                              492\n",
       "AMATEUR ATHLETIC UNION OF THE UNITED STATES INC                          408\n",
       "                                                                        ... \n",
       "ST LOUIS SLAM WOMENS FOOTBALL                                              1\n",
       "AIESEC ALUMNI IBEROAMERICA CORP                                            1\n",
       "WEALLBLEEDRED ORG INC                                                      1\n",
       "AMERICAN SOCIETY FOR STANDARDS IN MEDIUMSHIP & PSYCHICAL INVESTIGATI       1\n",
       "WATERHOUSE CHARITABLE TR                                                   1\n",
       "Name: count, Length: 19568, dtype: int64"
      ]
     },
     "execution_count": 28,
     "metadata": {},
     "output_type": "execute_result"
    }
   ],
   "source": [
    "# Count of name column\n",
    "name_counts = application_df.NAME.value_counts()\n",
    "name_counts"
   ]
  },
  {
   "cell_type": "code",
   "execution_count": 29,
   "metadata": {},
   "outputs": [
    {
     "data": {
      "text/plain": [
       "NAME\n",
       "Other                                          20277\n",
       "PARENT BOOSTER USA INC                          1260\n",
       "TOPS CLUB INC                                    765\n",
       "UNITED STATES BOWLING CONGRESS INC               700\n",
       "WASHINGTON STATE UNIVERSITY                      492\n",
       "                                               ...  \n",
       "RCI INC                                            7\n",
       "MYTEAM TRIUMPH INC                                 7\n",
       "NATIONAL ASSOCIATION OF CORPORATE DIRECTORS        7\n",
       "CHRISTIAN MEDICAL & DENTAL SOCIETY                 7\n",
       "NATIONAL KAPPA KAPPA IOTA INC                      7\n",
       "Name: count, Length: 316, dtype: int64"
      ]
     },
     "execution_count": 29,
     "metadata": {},
     "output_type": "execute_result"
    }
   ],
   "source": [
    "# Replace name values with counts less than 20 with \"Other\"\n",
    "replace_application = list(name_counts[name_counts < 0.005*1260].index)\n",
    "\n",
    "# Replace in dataframe\n",
    "for name in replace_application:\n",
    "    application_df.NAME = application_df.NAME.replace(name,\"Other\")\n",
    "\n",
    "# Check to make sure binning was successful\n",
    "application_df.NAME.value_counts()"
   ]
  },
  {
   "cell_type": "code",
   "execution_count": 30,
   "metadata": {},
   "outputs": [
    {
     "data": {
      "text/plain": [
       "APPLICATION_TYPE\n",
       "T3     27037\n",
       "T4      1542\n",
       "T6      1216\n",
       "T5      1173\n",
       "T19     1065\n",
       "T8       737\n",
       "T7       725\n",
       "T10      528\n",
       "T9       156\n",
       "T13       66\n",
       "T12       27\n",
       "T2        16\n",
       "T25        3\n",
       "T14        3\n",
       "T29        2\n",
       "T15        2\n",
       "T17        1\n",
       "Name: count, dtype: int64"
      ]
     },
     "execution_count": 30,
     "metadata": {},
     "output_type": "execute_result"
    }
   ],
   "source": [
    "# Look at APPLICATION_TYPE value counts for binning\n",
    "application_df[\"APPLICATION_TYPE\"].value_counts()"
   ]
  },
  {
   "cell_type": "code",
   "execution_count": 31,
   "metadata": {},
   "outputs": [
    {
     "data": {
      "text/plain": [
       "APPLICATION_TYPE\n",
       "T3       27037\n",
       "T4        1542\n",
       "T6        1216\n",
       "T5        1173\n",
       "T19       1065\n",
       "T8         737\n",
       "T7         725\n",
       "T10        528\n",
       "Other      276\n",
       "Name: count, dtype: int64"
      ]
     },
     "execution_count": 31,
     "metadata": {},
     "output_type": "execute_result"
    }
   ],
   "source": [
    "# Choose a cutoff value and create a list of application types to be replaced\n",
    "# use the variable name `application_types_to_replace`\n",
    "application_types_to_replace = [\"T9\", \"T13\", \"T12\", \"T2\", \"T25\", \"T14\", \"T29\", \"T15\", \"T17\"]\n",
    "\n",
    "# Replace in dataframe\n",
    "for app in application_types_to_replace:\n",
    "    application_df['APPLICATION_TYPE'] = application_df['APPLICATION_TYPE'].replace(app,\"Other\")\n",
    "\n",
    "# Check to make sure binning was successful\n",
    "application_df['APPLICATION_TYPE'].value_counts()"
   ]
  },
  {
   "cell_type": "code",
   "execution_count": 32,
   "metadata": {},
   "outputs": [
    {
     "data": {
      "text/plain": [
       "CLASSIFICATION\n",
       "C1000    17326\n",
       "C2000     6074\n",
       "C1200     4837\n",
       "C3000     1918\n",
       "C2100     1883\n",
       "         ...  \n",
       "C4120        1\n",
       "C8210        1\n",
       "C2561        1\n",
       "C4500        1\n",
       "C2150        1\n",
       "Name: count, Length: 71, dtype: int64"
      ]
     },
     "execution_count": 32,
     "metadata": {},
     "output_type": "execute_result"
    }
   ],
   "source": [
    "# Look at CLASSIFICATION value counts for binning\n",
    "application_df[\"CLASSIFICATION\"].value_counts()"
   ]
  },
  {
   "cell_type": "code",
   "execution_count": 33,
   "metadata": {},
   "outputs": [
    {
     "data": {
      "text/plain": [
       "CLASSIFICATION\n",
       "C1000    17326\n",
       "C2000     6074\n",
       "C1200     4837\n",
       "C3000     1918\n",
       "C2100     1883\n",
       "C7000      777\n",
       "C1700      287\n",
       "C4000      194\n",
       "C5000      116\n",
       "C1270      114\n",
       "C2700      104\n",
       "C2800       95\n",
       "C7100       75\n",
       "C1300       58\n",
       "C1280       50\n",
       "C1230       36\n",
       "C1400       34\n",
       "C7200       32\n",
       "C2300       32\n",
       "C1240       30\n",
       "C8000       20\n",
       "C7120       18\n",
       "C1500       16\n",
       "C1800       15\n",
       "C6000       15\n",
       "C1250       14\n",
       "C8200       11\n",
       "C1238       10\n",
       "C1278       10\n",
       "C1235        9\n",
       "C1237        9\n",
       "C7210        7\n",
       "C2400        6\n",
       "C1720        6\n",
       "C4100        6\n",
       "C1257        5\n",
       "C1600        5\n",
       "C1260        3\n",
       "C2710        3\n",
       "C0           3\n",
       "C3200        2\n",
       "C1234        2\n",
       "C1246        2\n",
       "C1267        2\n",
       "C1256        2\n",
       "Name: count, dtype: int64"
      ]
     },
     "execution_count": 33,
     "metadata": {},
     "output_type": "execute_result"
    }
   ],
   "source": [
    "# You may find it helpful to look at CLASSIFICATION value counts >1\n",
    "classification_counts = application_df[\"CLASSIFICATION\"].value_counts()\n",
    "test = classification_counts[classification_counts > 1]\n",
    "test"
   ]
  },
  {
   "cell_type": "code",
   "execution_count": 34,
   "metadata": {},
   "outputs": [],
   "source": [
    "#create a filter for binns to replace\n",
    "filter = classification_counts[classification_counts < 1000].index.tolist()"
   ]
  },
  {
   "cell_type": "code",
   "execution_count": 35,
   "metadata": {},
   "outputs": [
    {
     "data": {
      "text/plain": [
       "CLASSIFICATION\n",
       "C1000    17326\n",
       "C2000     6074\n",
       "C1200     4837\n",
       "Other     2261\n",
       "C3000     1918\n",
       "C2100     1883\n",
       "Name: count, dtype: int64"
      ]
     },
     "execution_count": 35,
     "metadata": {},
     "output_type": "execute_result"
    }
   ],
   "source": [
    "# Choose a cutoff value and create a list of classifications to be replaced\n",
    "# use the variable name `classifications_to_replace`\n",
    "\n",
    "classifications_to_replace = filter\n",
    "\n",
    "# Replace in dataframe\n",
    "for cls in classifications_to_replace:\n",
    "    application_df['CLASSIFICATION'] = application_df['CLASSIFICATION'].replace(cls,\"Other\")\n",
    "    \n",
    "# Check to make sure binning was successful\n",
    "application_df['CLASSIFICATION'].value_counts()"
   ]
  },
  {
   "cell_type": "code",
   "execution_count": 36,
   "metadata": {},
   "outputs": [],
   "source": [
    "# Convert categorical data to numeric with `pd.get_dummies`\n",
    "application_df = pd.get_dummies(application_df)"
   ]
  },
  {
   "cell_type": "code",
   "execution_count": 37,
   "metadata": {},
   "outputs": [],
   "source": [
    "# Split our preprocessed data into our features and target arrays\n",
    "y = application_df[\"IS_SUCCESSFUL\"].values\n",
    "X = application_df.drop([\"IS_SUCCESSFUL\"], axis=1).values\n",
    "\n",
    "# Split the preprocessed data into a training and remaining datasets\n",
    "X_train, X_remaining, y_train, y_remaining = train_test_split(X, y, test_size=0.2, random_state=42)\n",
    "\n",
    "# Split the preprocessed data into a validation and testing datasets\n",
    "X_val, X_test, y_val, y_test = train_test_split(X_remaining, y_remaining, test_size=0.5, random_state=42)\n"
   ]
  },
  {
   "cell_type": "code",
   "execution_count": 38,
   "metadata": {},
   "outputs": [],
   "source": [
    "# Create a StandardScaler instances\n",
    "scaler = StandardScaler()\n",
    "\n",
    "# Fit the StandardScaler\n",
    "X_scaler = scaler.fit(X_train)\n",
    "\n",
    "# Scale the data\n",
    "X_train_scaled = X_scaler.transform(X_train)\n",
    "X_test_scaled = X_scaler.transform(X_test)\n",
    "X_val_scaled = X_scaler.transform(X_val)"
   ]
  },
  {
   "cell_type": "code",
   "execution_count": 39,
   "metadata": {},
   "outputs": [
    {
     "data": {
      "text/plain": [
       "(27439, 359)"
      ]
     },
     "execution_count": 39,
     "metadata": {},
     "output_type": "execute_result"
    }
   ],
   "source": [
    "X_train_scaled.shape"
   ]
  },
  {
   "cell_type": "markdown",
   "metadata": {},
   "source": [
    "## Compile, Train and Evaluate the Model"
   ]
  },
  {
   "cell_type": "code",
   "execution_count": 40,
   "metadata": {},
   "outputs": [],
   "source": [
    "# Define the model - deep neural net, i.e., the number of input features and hidden nodes for each layer.\n",
    "number_input_features = len(X_train_scaled[0])\n",
    "\n",
    "# Create a method that creates a new Sequential model with hyperparameter options\n",
    "def build_model(hp, input_shape):\n",
    "\n",
    "    model = tf.keras.models.Sequential()\n",
    "    model.add(layers.Dense(units=hp.Int('units', min_value=50, max_value=200, step=10), activation='relu', input_shape=input_shape, kernel_regularizer=tf.keras.regularizers.l1(0.001)))\n",
    "\n",
    "    # Tuning the number of units in the first Dense layer\n",
    "    hp_units = hp.Int('units', min_value=10, max_value=200, step=10)\n",
    "    \n",
    "\n",
    "    model.add(layers.Dense(units=hp_units, activation='relu', kernel_regularizer=tf.keras.regularizers.l2(0.001)))\n",
    "\n",
    "    model.add(layers.Dense(units=hp_units, activation='relu', kernel_regularizer=tf.keras.regularizers.l1_l2(0.001)))\n",
    "\n",
    "    # Tuning the dropout rate\n",
    "    hp_dropout = hp.Float('dropout', min_value=0.0, max_value=0.5, default=0.25, step=0.05)\n",
    "    model.add(layers.Dropout(rate=hp_dropout))\n",
    "\n",
    "    # Adding additional hidden layers\n",
    "    for i in range(hp.Int('num_layers', 1, 5)):\n",
    "        # Each hidden layer can have its own number of units and dropout rate\n",
    "        layer_units = hp.Int(f'units_{i}', min_value=1, max_value=100, step=5)\n",
    "        model.add(layers.Dense(units=layer_units, activation=hp.Choice(f'activation_{i}', values=['relu', 'tanh'])))\n",
    "        \n",
    "\n",
    "    # Output layer\n",
    "    model.add(layers.Dense(units=1, activation='sigmoid'))\n",
    "\n",
    "\n",
    "    model.compile(optimizer='adam',\n",
    "                  loss='binary_crossentropy', \n",
    "                  metrics=['accuracy'])\n",
    "    return model\n",
    "\n",
    "\n"
   ]
  },
  {
   "cell_type": "code",
   "execution_count": 41,
   "metadata": {},
   "outputs": [
    {
     "name": "stdout",
     "output_type": "stream",
     "text": [
      "Reloading Tuner from .\\tuner0\\tuner0.json\n"
     ]
    }
   ],
   "source": [
    "input_shape = X_train_scaled.shape[1:]\n",
    "\n",
    "early_stopping = EarlyStopping(\n",
    "    monitor='val_accuracy',  # Change to 'val_accuracy' if you care more about accuracy\n",
    "    min_delta=0.01,      # Minimum change to qualify as an improvement\n",
    "    patience=10,         # Number of epochs with no improvement after which training will be stopped\n",
    "    verbose=1,\n",
    "    mode='auto'          # 'auto' infers from the direction of the monitored metric\n",
    ")\n",
    "\n",
    "class AccuracyThresholdCallback(Callback):\n",
    "    def __init__(self, threshold):\n",
    "        super(AccuracyThresholdCallback, self).__init__()\n",
    "        self.threshold = threshold\n",
    "\n",
    "    def on_epoch_end(self, epoch, logs=None):\n",
    "        accuracy = logs.get(\"accuracy\")\n",
    "        if accuracy is not None:\n",
    "            if accuracy >= self.threshold:\n",
    "                print(f\"\\nReached {self.threshold * 100}% accuracy, so stopping training!\")\n",
    "                self.model.stop_training = True\n",
    "\n",
    "# Instantiate the callback with your desired threshold\n",
    "accuracy_threshold = AccuracyThresholdCallback(threshold=0.85)\n",
    "\n",
    "\n",
    "class PerformanceThresholdCallback(Callback):\n",
    "    def __init__(self, threshold, patience=10):\n",
    "        super(PerformanceThresholdCallback, self).__init__()\n",
    "        self.threshold = threshold\n",
    "        self.patience = patience\n",
    "        self.wait = 0\n",
    "\n",
    "    def on_epoch_end(self, epoch, logs=None):\n",
    "        accuracy = logs.get(\"accuracy\")\n",
    "        if accuracy is not None:\n",
    "            if accuracy < self.threshold:\n",
    "                self.wait += 1\n",
    "                if self.wait >= self.patience:\n",
    "                    print(f\"\\nAccuracy did not reach the threshold of {self.threshold * 100}% within {self.patience} epochs. Stopping training.\")\n",
    "                    self.model.stop_training = True\n",
    "            else:\n",
    "                self.wait = 0  # reset the counter if performance is good\n",
    "\n",
    "# Instantiate the callback\n",
    "performance_threshold = PerformanceThresholdCallback(threshold=0.72, patience=10)  \n",
    "\n",
    "checkpoint_hyper = ModelCheckpoint(\n",
    "    \"checkpoints/hyper_weights.{epoch:02d}.hdf5\",\n",
    "    monitor=\"val_accuracy\",\n",
    "    verbose=1,\n",
    "    save_best_only=True,\n",
    "    save_weights_only=False,\n",
    "    mode=\"auto\",\n",
    "    save_freq=\"epoch\",\n",
    "    options=None\n",
    ")\n",
    "\n",
    "checkpoint_bayesian = ModelCheckpoint(\n",
    "    \"checkpoints/bayesian_weights.{epoch:02d}.hdf5\",\n",
    "    monitor=\"val_accuracy\",\n",
    "    verbose=1,\n",
    "    save_best_only=True,\n",
    "    save_weights_only=False,\n",
    "    mode=\"auto\",\n",
    "    save_freq=\"epoch\",\n",
    "    options=None\n",
    ")\n",
    "\n",
    "# Initialize the tuner\n",
    "tuner1 = kt.Hyperband(\n",
    "    lambda hp: build_model(hp, input_shape=input_shape),\n",
    "    objective='val_accuracy',\n",
    "    max_epochs=25,\n",
    "    project_name='tuner0',\n",
    "    hyperband_iterations=1\n",
    ")\n",
    "\n",
    "\n",
    "tuner2 = BayesianOptimization(\n",
    "    lambda hp: build_model(hp, input_shape=input_shape),\n",
    "    objective='val_accuracy',\n",
    "    max_trials=5,\n",
    "    executions_per_trial=3,\n",
    "    project_name='tuner1'\n",
    ")\n",
    "\n"
   ]
  },
  {
   "cell_type": "code",
   "execution_count": 42,
   "metadata": {},
   "outputs": [
    {
     "name": "stdout",
     "output_type": "stream",
     "text": [
      "Trial 30 Complete [00h 00m 25s]\n",
      "val_accuracy: 0.7883381843566895\n",
      "\n",
      "Best val_accuracy So Far: 0.7921282649040222\n",
      "Total elapsed time: 00h 08m 53s\n"
     ]
    }
   ],
   "source": [
    "tuner1.search(X_train_scaled, y_train, \n",
    "             epochs=25,\n",
    "             validation_data=(X_val_scaled, y_val),\n",
    "             callbacks=[early_stopping, accuracy_threshold, performance_threshold, checkpoint_hyper]\n",
    "             )"
   ]
  },
  {
   "cell_type": "code",
   "execution_count": 43,
   "metadata": {},
   "outputs": [
    {
     "name": "stdout",
     "output_type": "stream",
     "text": [
      "Trial 5 Complete [00h 01m 16s]\n",
      "val_accuracy: 0.7895043690999349\n",
      "\n",
      "Best val_accuracy So Far: 0.7895043690999349\n",
      "Total elapsed time: 00h 06m 44s\n"
     ]
    }
   ],
   "source": [
    "tuner2.search(X_train_scaled, y_train, \n",
    "             epochs=25,\n",
    "             validation_data=(X_val_scaled, y_val),\n",
    "             callbacks=[early_stopping, accuracy_threshold, performance_threshold, checkpoint_bayesian]\n",
    "             )"
   ]
  },
  {
   "cell_type": "code",
   "execution_count": 44,
   "metadata": {},
   "outputs": [
    {
     "name": "stdout",
     "output_type": "stream",
     "text": [
      "{'units': 180, 'dropout': 0.35000000000000003, 'num_layers': 2, 'units_0': 36, 'activation_0': 'relu', 'units_1': 6, 'activation_1': 'relu', 'units_2': 41, 'activation_2': 'tanh', 'units_3': 31, 'activation_3': 'tanh', 'units_4': 11, 'activation_4': 'relu', 'tuner/epochs': 25, 'tuner/initial_epoch': 9, 'tuner/bracket': 2, 'tuner/round': 2, 'tuner/trial_id': '0013'}\n",
      "{'units': 110, 'dropout': 0.2, 'num_layers': 5, 'units_0': 11, 'activation_0': 'tanh', 'units_1': 56, 'activation_1': 'tanh', 'units_2': 56, 'activation_2': 'tanh', 'units_3': 16, 'activation_3': 'relu', 'units_4': 51, 'activation_4': 'tanh', 'tuner/epochs': 25, 'tuner/initial_epoch': 9, 'tuner/bracket': 1, 'tuner/round': 1, 'tuner/trial_id': '0023'}\n",
      "{'units': 180, 'dropout': 0.35000000000000003, 'num_layers': 2, 'units_0': 36, 'activation_0': 'relu', 'units_1': 6, 'activation_1': 'relu', 'units_2': 41, 'activation_2': 'tanh', 'units_3': 31, 'activation_3': 'tanh', 'units_4': 11, 'activation_4': 'relu', 'tuner/epochs': 9, 'tuner/initial_epoch': 3, 'tuner/bracket': 2, 'tuner/round': 1, 'tuner/trial_id': '0004'}\n",
      "{'units': 60, 'dropout': 0.05, 'num_layers': 5, 'units_0': 21, 'activation_0': 'relu', 'units_1': 76, 'activation_1': 'relu', 'units_2': 56, 'activation_2': 'tanh', 'units_3': 6, 'activation_3': 'tanh', 'units_4': 86, 'activation_4': 'relu'}\n",
      "{'units': 130, 'dropout': 0.35000000000000003, 'num_layers': 2, 'units_0': 16, 'activation_0': 'tanh', 'units_1': 26, 'activation_1': 'tanh', 'units_2': 86, 'activation_2': 'tanh', 'units_3': 71, 'activation_3': 'tanh', 'units_4': 21, 'activation_4': 'relu'}\n",
      "{'units': 110, 'dropout': 0.30000000000000004, 'num_layers': 3, 'units_0': 61, 'activation_0': 'relu', 'units_1': 76, 'activation_1': 'relu', 'units_2': 66, 'activation_2': 'relu', 'units_3': 66, 'activation_3': 'tanh', 'units_4': 61, 'activation_4': 'tanh'}\n"
     ]
    }
   ],
   "source": [
    "# Get top 3 model hyperparameters and print the values\n",
    "top_hyper1 = tuner1.get_best_hyperparameters(3)\n",
    "for param in top_hyper1:\n",
    "    print(param.values)\n",
    "\n",
    "top_hyper2 = tuner2.get_best_hyperparameters(3)\n",
    "for param in top_hyper2:\n",
    "    print(param.values)"
   ]
  },
  {
   "cell_type": "code",
   "execution_count": 45,
   "metadata": {},
   "outputs": [
    {
     "name": "stdout",
     "output_type": "stream",
     "text": [
      " Hyperband values: {'units': 180, 'dropout': 0.35000000000000003, 'num_layers': 2, 'units_0': 36, 'activation_0': 'relu', 'units_1': 6, 'activation_1': 'relu', 'units_2': 41, 'activation_2': 'tanh', 'units_3': 31, 'activation_3': 'tanh', 'units_4': 11, 'activation_4': 'relu', 'tuner/epochs': 25, 'tuner/initial_epoch': 9, 'tuner/bracket': 2, 'tuner/round': 2, 'tuner/trial_id': '0013'}\n",
      "Bayesian values: {'units': 60, 'dropout': 0.05, 'num_layers': 5, 'units_0': 21, 'activation_0': 'relu', 'units_1': 76, 'activation_1': 'relu', 'units_2': 56, 'activation_2': 'tanh', 'units_3': 6, 'activation_3': 'tanh', 'units_4': 86, 'activation_4': 'relu'}\n"
     ]
    }
   ],
   "source": [
    "# Get best model hyperparameters\n",
    "best_hyper1 = tuner1.get_best_hyperparameters(1)[0]\n",
    "print(f\" Hyperband values: {best_hyper1.values}\")\n",
    "\n",
    "best_hyper2 = tuner2.get_best_hyperparameters(1)[0]\n",
    "print(f\"Bayesian values: {best_hyper2.values}\")"
   ]
  },
  {
   "cell_type": "code",
   "execution_count": 46,
   "metadata": {},
   "outputs": [
    {
     "name": "stdout",
     "output_type": "stream",
     "text": [
      "Hyperband:\n",
      "108/108 - 0s - loss: 0.4983 - accuracy: 0.7822 - 382ms/epoch - 4ms/step\n",
      "Loss: 0.49830305576324463, Accuracy: 0.7822157144546509\n",
      "108/108 - 0s - loss: 0.4943 - accuracy: 0.7799 - 459ms/epoch - 4ms/step\n",
      "Loss: 0.49428650736808777, Accuracy: 0.7798833847045898\n",
      "108/108 - 0s - loss: 0.5099 - accuracy: 0.7810 - 420ms/epoch - 4ms/step\n",
      "Loss: 0.5099402666091919, Accuracy: 0.7810495495796204\n",
      "Bayesian:\n",
      "108/108 - 0s - loss: 0.4922 - accuracy: 0.7828 - 426ms/epoch - 4ms/step\n",
      "Loss: 0.4922061264514923, Accuracy: 0.7827988266944885\n",
      "108/108 - 0s - loss: 0.5038 - accuracy: 0.7828 - 413ms/epoch - 4ms/step\n",
      "Loss: 0.5038103461265564, Accuracy: 0.7827988266944885\n",
      "108/108 - 0s - loss: 0.5035 - accuracy: 0.7784 - 448ms/epoch - 4ms/step\n",
      "Loss: 0.503492534160614, Accuracy: 0.7784256339073181\n"
     ]
    }
   ],
   "source": [
    "# Evaluate the top 3 models against the test dataset\n",
    "top_model_1 = tuner1.get_best_models(3)\n",
    "print(\"Hyperband:\")\n",
    "for model in top_model_1:\n",
    "    model_loss, model_accuracy = model.evaluate(X_test_scaled,y_test,verbose=2)\n",
    "    print(f\"Loss: {model_loss}, Accuracy: {model_accuracy}\")\n",
    "\n",
    "top_model_2 = tuner2.get_best_models(3)\n",
    "print(\"Bayesian:\")\n",
    "for model in top_model_2:\n",
    "    model_loss, model_accuracy = model.evaluate(X_test_scaled,y_test,verbose=2)\n",
    "    print(f\"Loss: {model_loss}, Accuracy: {model_accuracy}\")"
   ]
  },
  {
   "cell_type": "code",
   "execution_count": 55,
   "metadata": {},
   "outputs": [
    {
     "name": "stdout",
     "output_type": "stream",
     "text": [
      "Epoch 1/150\n",
      "858/858 [==============================] - 3s 3ms/step - loss: 1.1337 - accuracy: 0.7727 - val_loss: 0.5819 - val_accuracy: 0.7778\n",
      "Epoch 2/150\n",
      "858/858 [==============================] - 2s 2ms/step - loss: 0.5392 - accuracy: 0.7828 - val_loss: 0.5302 - val_accuracy: 0.7755\n",
      "Epoch 3/150\n",
      "858/858 [==============================] - 2s 2ms/step - loss: 0.5036 - accuracy: 0.7870 - val_loss: 0.5084 - val_accuracy: 0.7805\n",
      "Epoch 4/150\n",
      "858/858 [==============================] - 2s 2ms/step - loss: 0.4911 - accuracy: 0.7880 - val_loss: 0.4970 - val_accuracy: 0.7732\n",
      "Epoch 5/150\n",
      "858/858 [==============================] - 2s 2ms/step - loss: 0.4857 - accuracy: 0.7878 - val_loss: 0.5035 - val_accuracy: 0.7685\n",
      "Epoch 6/150\n",
      "858/858 [==============================] - 2s 2ms/step - loss: 0.4825 - accuracy: 0.7885 - val_loss: 0.4866 - val_accuracy: 0.7810\n",
      "Epoch 7/150\n",
      "858/858 [==============================] - 2s 2ms/step - loss: 0.4780 - accuracy: 0.7892 - val_loss: 0.4808 - val_accuracy: 0.7805\n",
      "Epoch 8/150\n",
      "858/858 [==============================] - 2s 2ms/step - loss: 0.4766 - accuracy: 0.7904 - val_loss: 0.4822 - val_accuracy: 0.7761\n",
      "Epoch 9/150\n",
      "858/858 [==============================] - 2s 2ms/step - loss: 0.4753 - accuracy: 0.7878 - val_loss: 0.4922 - val_accuracy: 0.7708\n",
      "Epoch 10/150\n",
      "858/858 [==============================] - 2s 2ms/step - loss: 0.4736 - accuracy: 0.7880 - val_loss: 0.4874 - val_accuracy: 0.7778\n",
      "Epoch 11/150\n",
      "858/858 [==============================] - 2s 2ms/step - loss: 0.4746 - accuracy: 0.7891 - val_loss: 0.4865 - val_accuracy: 0.7758\n",
      "Epoch 11: early stopping\n"
     ]
    },
    {
     "data": {
      "image/png": "[encoded data removed]",
      "text/plain": [
       "<Figure size 640x480 with 1 Axes>"
      ]
     },
     "metadata": {},
     "output_type": "display_data"
    }
   ],
   "source": [
    "# train the best model using the hyper parameters found by the tuner to 150 epochs\n",
    "hyper_model = build_model(best_hyper1, input_shape=input_shape)\n",
    "hyper_history = hyper_model.fit(X_train_scaled, y_train, epochs=150, validation_data=(X_val_scaled, y_val), callbacks=[early_stopping, performance_threshold])\n",
    "plt.plot(hyper_history.history['accuracy'])\n",
    "plt.plot(hyper_history.history['val_accuracy'])\n",
    "plt.title('HyperBand Model Accuracy')\n",
    "plt.ylabel('Accuracy')\n",
    "plt.xlabel('Epoch')\n",
    "plt.legend(['Train', 'Validation'], loc='upper left')\n",
    "plt.show()\n"
   ]
  },
  {
   "cell_type": "code",
   "execution_count": 56,
   "metadata": {},
   "outputs": [
    {
     "name": "stdout",
     "output_type": "stream",
     "text": [
      "108/108 - 0s - loss: 0.5059 - accuracy: 0.7735 - 153ms/epoch - 1ms/step\n",
      "Loss: 0.5059400200843811, Accuracy: 0.7734693884849548\n"
     ]
    }
   ],
   "source": [
    "# test the new model\n",
    "model_loss, model_accuracy = hyper_model.evaluate(X_test_scaled,y_test,verbose=2)\n",
    "print(f\"Loss: {model_loss}, Accuracy: {model_accuracy}\")"
   ]
  },
  {
   "cell_type": "code",
   "execution_count": 57,
   "metadata": {},
   "outputs": [
    {
     "name": "stdout",
     "output_type": "stream",
     "text": [
      "Epoch 1/150\n",
      "858/858 [==============================] - 3s 3ms/step - loss: 0.7611 - accuracy: 0.7703 - val_loss: 0.5406 - val_accuracy: 0.7793\n",
      "Epoch 2/150\n",
      "858/858 [==============================] - 2s 2ms/step - loss: 0.5094 - accuracy: 0.7863 - val_loss: 0.4989 - val_accuracy: 0.7863\n",
      "Epoch 3/150\n",
      "858/858 [==============================] - 2s 2ms/step - loss: 0.4815 - accuracy: 0.7861 - val_loss: 0.4873 - val_accuracy: 0.7825\n",
      "Epoch 4/150\n",
      "858/858 [==============================] - 2s 2ms/step - loss: 0.4732 - accuracy: 0.7862 - val_loss: 0.4784 - val_accuracy: 0.7825\n",
      "Epoch 5/150\n",
      "858/858 [==============================] - 2s 2ms/step - loss: 0.4690 - accuracy: 0.7890 - val_loss: 0.4725 - val_accuracy: 0.7866\n",
      "Epoch 6/150\n",
      "858/858 [==============================] - 2s 2ms/step - loss: 0.4668 - accuracy: 0.7878 - val_loss: 0.4862 - val_accuracy: 0.7694\n",
      "Epoch 7/150\n",
      "858/858 [==============================] - 2s 2ms/step - loss: 0.4680 - accuracy: 0.7875 - val_loss: 0.4790 - val_accuracy: 0.7761\n",
      "Epoch 8/150\n",
      "858/858 [==============================] - 2s 2ms/step - loss: 0.4657 - accuracy: 0.7866 - val_loss: 0.4777 - val_accuracy: 0.7883\n",
      "Epoch 9/150\n",
      "858/858 [==============================] - 2s 2ms/step - loss: 0.4641 - accuracy: 0.7889 - val_loss: 0.4802 - val_accuracy: 0.7778\n",
      "Epoch 10/150\n",
      "858/858 [==============================] - 2s 2ms/step - loss: 0.4636 - accuracy: 0.7890 - val_loss: 0.4761 - val_accuracy: 0.7714\n",
      "Epoch 11/150\n",
      "858/858 [==============================] - 2s 2ms/step - loss: 0.4638 - accuracy: 0.7902 - val_loss: 0.4714 - val_accuracy: 0.7872\n",
      "Epoch 11: early stopping\n"
     ]
    },
    {
     "data": {
      "image/png": "[encoded data removed]",
      "text/plain": [
       "<Figure size 640x480 with 1 Axes>"
      ]
     },
     "metadata": {},
     "output_type": "display_data"
    }
   ],
   "source": [
    "# train the best model using the hyper parameters found by the tuner to 150 epochs\n",
    "bayesian_model = build_model(best_hyper2, input_shape=input_shape)\n",
    "bayesian_history = bayesian_model.fit(X_train_scaled, y_train, epochs=150, validation_data=(X_val_scaled, y_val), callbacks=[early_stopping, performance_threshold])\n",
    "plt.plot(bayesian_history.history['accuracy'])\n",
    "plt.plot(bayesian_history.history['val_accuracy'])\n",
    "plt.title('Bayesian Model Accuracy')\n",
    "plt.ylabel('Accuracy')\n",
    "plt.xlabel('Epoch')\n",
    "plt.legend(['Train', 'Validation'], loc='upper left')\n",
    "plt.show()"
   ]
  },
  {
   "cell_type": "code",
   "execution_count": 58,
   "metadata": {},
   "outputs": [
    {
     "name": "stdout",
     "output_type": "stream",
     "text": [
      "108/108 - 0s - loss: 0.4895 - accuracy: 0.7810 - 170ms/epoch - 2ms/step\n",
      "Loss: 0.48945945501327515, Accuracy: 0.7810495495796204\n"
     ]
    }
   ],
   "source": [
    "model_loss, model_accuracy = bayesian_model.evaluate(X_test_scaled,y_test,verbose=2)\n",
    "print(f\"Loss: {model_loss}, Accuracy: {model_accuracy}\")"
   ]
  },
  {
   "cell_type": "code",
   "execution_count": 59,
   "metadata": {},
   "outputs": [
    {
     "name": "stdout",
     "output_type": "stream",
     "text": [
      "WARNING:tensorflow:Detecting that an object or model or tf.train.Checkpoint is being deleted with unrestored values. See the following logs for the specific values in question. To silence these warnings, use `status.expect_partial()`. See https://www.tensorflow.org/api_docs/python/tf/train/Checkpoint#restorefor details about the status object returned by the restore function.\n",
      "WARNING:tensorflow:Value in checkpoint could not be found in the restored object: (root).optimizer.iter\n",
      "WARNING:tensorflow:Value in checkpoint could not be found in the restored object: (root).optimizer.beta_1\n",
      "WARNING:tensorflow:Value in checkpoint could not be found in the restored object: (root).optimizer.beta_2\n",
      "WARNING:tensorflow:Value in checkpoint could not be found in the restored object: (root).optimizer.decay\n",
      "WARNING:tensorflow:Value in checkpoint could not be found in the restored object: (root).optimizer.learning_rate\n",
      "WARNING:tensorflow:Detecting that an object or model or tf.train.Checkpoint is being deleted with unrestored values. See the following logs for the specific values in question. To silence these warnings, use `status.expect_partial()`. See https://www.tensorflow.org/api_docs/python/tf/train/Checkpoint#restorefor details about the status object returned by the restore function.\n",
      "WARNING:tensorflow:Value in checkpoint could not be found in the restored object: (root).optimizer.iter\n",
      "WARNING:tensorflow:Value in checkpoint could not be found in the restored object: (root).optimizer.beta_1\n",
      "WARNING:tensorflow:Value in checkpoint could not be found in the restored object: (root).optimizer.beta_2\n",
      "WARNING:tensorflow:Value in checkpoint could not be found in the restored object: (root).optimizer.decay\n",
      "WARNING:tensorflow:Value in checkpoint could not be found in the restored object: (root).optimizer.learning_rate\n",
      "WARNING:tensorflow:Detecting that an object or model or tf.train.Checkpoint is being deleted with unrestored values. See the following logs for the specific values in question. To silence these warnings, use `status.expect_partial()`. See https://www.tensorflow.org/api_docs/python/tf/train/Checkpoint#restorefor details about the status object returned by the restore function.\n",
      "WARNING:tensorflow:Value in checkpoint could not be found in the restored object: (root).optimizer.iter\n",
      "WARNING:tensorflow:Value in checkpoint could not be found in the restored object: (root).optimizer.beta_1\n",
      "WARNING:tensorflow:Value in checkpoint could not be found in the restored object: (root).optimizer.beta_2\n",
      "WARNING:tensorflow:Value in checkpoint could not be found in the restored object: (root).optimizer.decay\n",
      "WARNING:tensorflow:Value in checkpoint could not be found in the restored object: (root).optimizer.learning_rate\n",
      "WARNING:tensorflow:Detecting that an object or model or tf.train.Checkpoint is being deleted with unrestored values. See the following logs for the specific values in question. To silence these warnings, use `status.expect_partial()`. See https://www.tensorflow.org/api_docs/python/tf/train/Checkpoint#restorefor details about the status object returned by the restore function.\n",
      "WARNING:tensorflow:Value in checkpoint could not be found in the restored object: (root).optimizer.iter\n",
      "WARNING:tensorflow:Value in checkpoint could not be found in the restored object: (root).optimizer.beta_1\n",
      "WARNING:tensorflow:Value in checkpoint could not be found in the restored object: (root).optimizer.beta_2\n",
      "WARNING:tensorflow:Value in checkpoint could not be found in the restored object: (root).optimizer.decay\n",
      "WARNING:tensorflow:Value in checkpoint could not be found in the restored object: (root).optimizer.learning_rate\n",
      "WARNING:tensorflow:Detecting that an object or model or tf.train.Checkpoint is being deleted with unrestored values. See the following logs for the specific values in question. To silence these warnings, use `status.expect_partial()`. See https://www.tensorflow.org/api_docs/python/tf/train/Checkpoint#restorefor details about the status object returned by the restore function.\n",
      "WARNING:tensorflow:Value in checkpoint could not be found in the restored object: (root).optimizer.iter\n",
      "WARNING:tensorflow:Value in checkpoint could not be found in the restored object: (root).optimizer.beta_1\n",
      "WARNING:tensorflow:Value in checkpoint could not be found in the restored object: (root).optimizer.beta_2\n",
      "WARNING:tensorflow:Value in checkpoint could not be found in the restored object: (root).optimizer.decay\n",
      "WARNING:tensorflow:Value in checkpoint could not be found in the restored object: (root).optimizer.learning_rate\n",
      "WARNING:tensorflow:Detecting that an object or model or tf.train.Checkpoint is being deleted with unrestored values. See the following logs for the specific values in question. To silence these warnings, use `status.expect_partial()`. See https://www.tensorflow.org/api_docs/python/tf/train/Checkpoint#restorefor details about the status object returned by the restore function.\n",
      "WARNING:tensorflow:Value in checkpoint could not be found in the restored object: (root).optimizer.iter\n",
      "WARNING:tensorflow:Value in checkpoint could not be found in the restored object: (root).optimizer.beta_1\n",
      "WARNING:tensorflow:Value in checkpoint could not be found in the restored object: (root).optimizer.beta_2\n",
      "WARNING:tensorflow:Value in checkpoint could not be found in the restored object: (root).optimizer.decay\n",
      "WARNING:tensorflow:Value in checkpoint could not be found in the restored object: (root).optimizer.learning_rate\n",
      "WARNING:tensorflow:Detecting that an object or model or tf.train.Checkpoint is being deleted with unrestored values. See the following logs for the specific values in question. To silence these warnings, use `status.expect_partial()`. See https://www.tensorflow.org/api_docs/python/tf/train/Checkpoint#restorefor details about the status object returned by the restore function.\n",
      "WARNING:tensorflow:Value in checkpoint could not be found in the restored object: (root).optimizer.iter\n",
      "WARNING:tensorflow:Value in checkpoint could not be found in the restored object: (root).optimizer.beta_1\n",
      "WARNING:tensorflow:Value in checkpoint could not be found in the restored object: (root).optimizer.beta_2\n",
      "WARNING:tensorflow:Value in checkpoint could not be found in the restored object: (root).optimizer.decay\n",
      "WARNING:tensorflow:Value in checkpoint could not be found in the restored object: (root).optimizer.learning_rate\n",
      "WARNING:tensorflow:Detecting that an object or model or tf.train.Checkpoint is being deleted with unrestored values. See the following logs for the specific values in question. To silence these warnings, use `status.expect_partial()`. See https://www.tensorflow.org/api_docs/python/tf/train/Checkpoint#restorefor details about the status object returned by the restore function.\n",
      "WARNING:tensorflow:Value in checkpoint could not be found in the restored object: (root).optimizer.iter\n",
      "WARNING:tensorflow:Value in checkpoint could not be found in the restored object: (root).optimizer.beta_1\n",
      "WARNING:tensorflow:Value in checkpoint could not be found in the restored object: (root).optimizer.beta_2\n",
      "WARNING:tensorflow:Value in checkpoint could not be found in the restored object: (root).optimizer.decay\n",
      "WARNING:tensorflow:Value in checkpoint could not be found in the restored object: (root).optimizer.learning_rate\n",
      "WARNING:tensorflow:Detecting that an object or model or tf.train.Checkpoint is being deleted with unrestored values. See the following logs for the specific values in question. To silence these warnings, use `status.expect_partial()`. See https://www.tensorflow.org/api_docs/python/tf/train/Checkpoint#restorefor details about the status object returned by the restore function.\n",
      "WARNING:tensorflow:Value in checkpoint could not be found in the restored object: (root).optimizer.iter\n",
      "WARNING:tensorflow:Value in checkpoint could not be found in the restored object: (root).optimizer.beta_1\n",
      "WARNING:tensorflow:Value in checkpoint could not be found in the restored object: (root).optimizer.beta_2\n",
      "WARNING:tensorflow:Value in checkpoint could not be found in the restored object: (root).optimizer.decay\n",
      "WARNING:tensorflow:Value in checkpoint could not be found in the restored object: (root).optimizer.learning_rate\n",
      "WARNING:tensorflow:Detecting that an object or model or tf.train.Checkpoint is being deleted with unrestored values. See the following logs for the specific values in question. To silence these warnings, use `status.expect_partial()`. See https://www.tensorflow.org/api_docs/python/tf/train/Checkpoint#restorefor details about the status object returned by the restore function.\n",
      "WARNING:tensorflow:Value in checkpoint could not be found in the restored object: (root).optimizer.iter\n",
      "WARNING:tensorflow:Value in checkpoint could not be found in the restored object: (root).optimizer.beta_1\n",
      "WARNING:tensorflow:Value in checkpoint could not be found in the restored object: (root).optimizer.beta_2\n",
      "WARNING:tensorflow:Value in checkpoint could not be found in the restored object: (root).optimizer.decay\n",
      "WARNING:tensorflow:Value in checkpoint could not be found in the restored object: (root).optimizer.learning_rate\n",
      "WARNING:tensorflow:Detecting that an object or model or tf.train.Checkpoint is being deleted with unrestored values. See the following logs for the specific values in question. To silence these warnings, use `status.expect_partial()`. See https://www.tensorflow.org/api_docs/python/tf/train/Checkpoint#restorefor details about the status object returned by the restore function.\n",
      "WARNING:tensorflow:Value in checkpoint could not be found in the restored object: (root).optimizer.iter\n",
      "WARNING:tensorflow:Value in checkpoint could not be found in the restored object: (root).optimizer.beta_1\n",
      "WARNING:tensorflow:Value in checkpoint could not be found in the restored object: (root).optimizer.beta_2\n",
      "WARNING:tensorflow:Value in checkpoint could not be found in the restored object: (root).optimizer.decay\n",
      "WARNING:tensorflow:Value in checkpoint could not be found in the restored object: (root).optimizer.learning_rate\n",
      "WARNING:tensorflow:Detecting that an object or model or tf.train.Checkpoint is being deleted with unrestored values. See the following logs for the specific values in question. To silence these warnings, use `status.expect_partial()`. See https://www.tensorflow.org/api_docs/python/tf/train/Checkpoint#restorefor details about the status object returned by the restore function.\n",
      "WARNING:tensorflow:Value in checkpoint could not be found in the restored object: (root).optimizer.iter\n",
      "WARNING:tensorflow:Value in checkpoint could not be found in the restored object: (root).optimizer.beta_1\n",
      "WARNING:tensorflow:Value in checkpoint could not be found in the restored object: (root).optimizer.beta_2\n",
      "WARNING:tensorflow:Value in checkpoint could not be found in the restored object: (root).optimizer.decay\n",
      "WARNING:tensorflow:Value in checkpoint could not be found in the restored object: (root).optimizer.learning_rate\n",
      "WARNING:tensorflow:Detecting that an object or model or tf.train.Checkpoint is being deleted with unrestored values. See the following logs for the specific values in question. To silence these warnings, use `status.expect_partial()`. See https://www.tensorflow.org/api_docs/python/tf/train/Checkpoint#restorefor details about the status object returned by the restore function.\n",
      "WARNING:tensorflow:Value in checkpoint could not be found in the restored object: (root).optimizer.iter\n",
      "WARNING:tensorflow:Value in checkpoint could not be found in the restored object: (root).optimizer.beta_1\n",
      "WARNING:tensorflow:Value in checkpoint could not be found in the restored object: (root).optimizer.beta_2\n",
      "WARNING:tensorflow:Value in checkpoint could not be found in the restored object: (root).optimizer.decay\n",
      "WARNING:tensorflow:Value in checkpoint could not be found in the restored object: (root).optimizer.learning_rate\n",
      "WARNING:tensorflow:Detecting that an object or model or tf.train.Checkpoint is being deleted with unrestored values. See the following logs for the specific values in question. To silence these warnings, use `status.expect_partial()`. See https://www.tensorflow.org/api_docs/python/tf/train/Checkpoint#restorefor details about the status object returned by the restore function.\n",
      "WARNING:tensorflow:Value in checkpoint could not be found in the restored object: (root).optimizer.iter\n",
      "WARNING:tensorflow:Value in checkpoint could not be found in the restored object: (root).optimizer.beta_1\n",
      "WARNING:tensorflow:Value in checkpoint could not be found in the restored object: (root).optimizer.beta_2\n",
      "WARNING:tensorflow:Value in checkpoint could not be found in the restored object: (root).optimizer.decay\n",
      "WARNING:tensorflow:Value in checkpoint could not be found in the restored object: (root).optimizer.learning_rate\n",
      "WARNING:tensorflow:Detecting that an object or model or tf.train.Checkpoint is being deleted with unrestored values. See the following logs for the specific values in question. To silence these warnings, use `status.expect_partial()`. See https://www.tensorflow.org/api_docs/python/tf/train/Checkpoint#restorefor details about the status object returned by the restore function.\n",
      "WARNING:tensorflow:Value in checkpoint could not be found in the restored object: (root).optimizer.iter\n",
      "WARNING:tensorflow:Value in checkpoint could not be found in the restored object: (root).optimizer.beta_1\n",
      "WARNING:tensorflow:Value in checkpoint could not be found in the restored object: (root).optimizer.beta_2\n",
      "WARNING:tensorflow:Value in checkpoint could not be found in the restored object: (root).optimizer.decay\n",
      "WARNING:tensorflow:Value in checkpoint could not be found in the restored object: (root).optimizer.learning_rate\n",
      "108/108 [==============================] - 0s 1ms/step\n",
      "108/108 [==============================] - 0s 1ms/step\n",
      "108/108 [==============================] - 0s 1ms/step\n",
      "108/108 [==============================] - 0s 1ms/step\n",
      "108/108 [==============================] - 0s 1ms/step\n",
      "108/108 [==============================] - 0s 1ms/step\n",
      "Ensemble accuracy: 0.7836734693877551\n"
     ]
    }
   ],
   "source": [
    "hyperband_top_1 = tuner1.get_best_models(1)[0]\n",
    "hyperband_top_2 = tuner1.get_best_models(2)[1]\n",
    "hyperband_top_3 = tuner1.get_best_models(3)[2]\n",
    "#pretrained_model = load_model(\"AlphabetSoupCharity.h5\")\n",
    "\n",
    "bayesian_top_1 = tuner2.get_best_models(1)[0]\n",
    "bayesian_top_2 = tuner2.get_best_models(2)[1]\n",
    "bayesian_top_3 = tuner2.get_best_models(3)[2]\n",
    "\n",
    "def ensemble_predictions(models, X):\n",
    "    # Make predictions\n",
    "    yhats = [model.predict(X) for model in models]\n",
    "    yhats = np.array(yhats)\n",
    "    # Average predictions\n",
    "    avg_yhat = np.mean(yhats, axis=0)\n",
    "    # Apply sigmoid\n",
    "    predictions = np.round(avg_yhat)\n",
    "    return predictions\n",
    "\n",
    "models = [hyperband_top_1, hyperband_top_2, hyperband_top_3, bayesian_top_1, bayesian_top_2, bayesian_top_3]\n",
    "y_pred = ensemble_predictions(models, X_test_scaled)\n",
    "ensemble_accuracy = accuracy_score(y_test, y_pred)\n",
    "print(f\"Ensemble accuracy: {ensemble_accuracy}\")\n",
    "\n"
   ]
  },
  {
   "cell_type": "code",
   "execution_count": 60,
   "metadata": {},
   "outputs": [],
   "source": [
    "# Export our model to HDF5 file\n",
    "bayesian_model.save(\"AlphabetSoupCharity_Optimized.h5\")"
   ]
  }
 ],
 "metadata": {
  "kernelspec": {
   "display_name": "Python 3",
   "language": "python",
   "name": "python3"
  },
  "language_info": {
   "codemirror_mode": {
    "name": "ipython",
    "version": 3
   },
   "file_extension": ".py",
   "mimetype": "text/x-python",
   "name": "python",
   "nbconvert_exporter": "python",
   "pygments_lexer": "ipython3",
   "version": "3.10.9"
  },
  "vscode": {
   "interpreter": {
    "hash": "31f2aee4e71d21fbe5cf8b01ff0e069b9275f58929596ceb00d14d90e3e16cd6"
   }
  }
 },
 "nbformat": 4,
 "nbformat_minor": 4
}
